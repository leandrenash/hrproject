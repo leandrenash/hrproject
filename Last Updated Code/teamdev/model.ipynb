{
 "cells": [
  {
   "cell_type": "code",
   "execution_count": 1,
   "metadata": {},
   "outputs": [
    {
     "name": "stdout",
     "output_type": "stream",
     "text": [
      "   code                                    Job Description        label\n",
      "0   1176       Develop, test, and maintain web applications  Response B\n",
      "1   1176  Collaborate with the team to design software s...  Response B\n",
      "2   1176              Occasionally mentor junior developers  Response B\n",
      "3   1186         Plan and implement communication campaigns  Response B\n",
      "4   1186  Support team members in creating content and d...  Response B\n"
     ]
    }
   ],
   "source": [
    "import pandas as pd\n",
    "import numpy as np\n",
    "from sklearn.feature_extraction.text import TfidfVectorizer\n",
    "from sklearn.model_selection import train_test_split\n",
    "from sklearn.linear_model import LogisticRegression\n",
    "from sklearn.metrics import accuracy_score, classification_report\n",
    "import joblib\n",
    "\n",
    "# Load the data\n",
    "df = pd.read_csv('team.csv', encoding='MacRoman')\n",
    "print(df.head())"
   ]
  },
  {
   "cell_type": "code",
   "execution_count": 2,
   "metadata": {},
   "outputs": [
    {
     "name": "stdout",
     "output_type": "stream",
     "text": [
      "Model Accuracy: 0.8571428571428571\n",
      "Classification Report:\n",
      "              precision    recall  f1-score   support\n",
      "\n",
      "  Response A       0.96      0.92      0.94        24\n",
      "  Response B       0.72      0.93      0.81        14\n",
      "  Response C       1.00      0.25      0.40         4\n",
      "\n",
      "    accuracy                           0.86        42\n",
      "   macro avg       0.89      0.70      0.72        42\n",
      "weighted avg       0.88      0.86      0.84        42\n",
      "\n"
     ]
    },
    {
     "data": {
      "text/plain": [
       "['team_development_vectorizer.joblib']"
      ]
     },
     "execution_count": 2,
     "metadata": {},
     "output_type": "execute_result"
    }
   ],
   "source": [
    "import pandas as pd\n",
    "import numpy as np\n",
    "from sklearn.feature_extraction.text import TfidfVectorizer\n",
    "from sklearn.model_selection import train_test_split\n",
    "from sklearn.linear_model import LogisticRegression\n",
    "from sklearn.metrics import accuracy_score, classification_report\n",
    "import joblib\n",
    "\n",
    "# Preprocess the data\n",
    "df = pd.read_csv('team.csv', encoding='MacRoman')\n",
    "\n",
    "# Create TF-IDF vectorizer\n",
    "tfidf = TfidfVectorizer(max_features=1000, stop_words='english')\n",
    "X = tfidf.fit_transform(df['Job Description '].astype(str))\n",
    "y = df['label']\n",
    "\n",
    "# Split the data\n",
    "X_train, X_test, y_train, y_test = train_test_split(X, y, test_size=0.2, random_state=42)\n",
    "\n",
    "# Train model\n",
    "model = LogisticRegression(max_iter=1000)\n",
    "model.fit(X_train, y_train)\n",
    "\n",
    "# Make predictions and evaluate\n",
    "y_pred = model.predict(X_test)\n",
    "accuracy = accuracy_score(y_test, y_pred)\n",
    "print(\"Model Accuracy:\", accuracy)\n",
    "print(\"\\\n",
    "Classification Report:\")\n",
    "print(classification_report(y_test, y_pred))\n",
    "\n",
    "# Save the model and vectorizer\n",
    "joblib.dump(model, 'team_development_model.joblib')\n",
    "joblib.dump(tfidf, 'team_development_vectorizer.joblib')"
   ]
  },
  {
   "cell_type": "code",
   "execution_count": 3,
   "metadata": {},
   "outputs": [
    {
     "name": "stdout",
     "output_type": "stream",
     "text": [
      "Model and vectorizer loaded successfully\n"
     ]
    }
   ],
   "source": [
    "# Load the saved model and vectorizer\n",
    "import joblib\n",
    "\n",
    "# Load the model and vectorizer\n",
    "model = joblib.load('team_development_model.joblib')\n",
    "vectorizer = joblib.load('team_development_vectorizer.joblib')\n",
    "\n",
    "print(\"Model and vectorizer loaded successfully\")"
   ]
  },
  {
   "cell_type": "code",
   "execution_count": 4,
   "metadata": {},
   "outputs": [
    {
     "name": "stdout",
     "output_type": "stream",
     "text": [
      "Models and vectorizer trained and saved successfully\n"
     ]
    }
   ],
   "source": [
    "import pandas as pd\n",
    "import numpy as np\n",
    "from sklearn.feature_extraction.text import TfidfVectorizer\n",
    "from sklearn.model_selection import train_test_split\n",
    "from sklearn.linear_model import LogisticRegression\n",
    "import joblib\n",
    "\n",
    "# Load and preprocess the data\n",
    "df = pd.read_csv('team.csv', encoding='MacRoman')\n",
    "\n",
    "# Create three separate models for each question\n",
    "tfidf = TfidfVectorizer(max_features=1000, stop_words='english')\n",
    "X = tfidf.fit_transform(df['Job Description '].astype(str))\n",
    "\n",
    "# Train three separate models for questions 43, 44, and 45\n",
    "models = []\n",
    "for i in range(3):\n",
    "    model = LogisticRegression(max_iter=1000)\n",
    "    model.fit(X, df['label'])\n",
    "    models.append(model)\n",
    "\n",
    "# Save models and vectorizer\n",
    "joblib.dump(models, 'team_development_models.joblib')\n",
    "joblib.dump(tfidf, 'team_development_vectorizer.joblib')\n",
    "\n",
    "print(\"Models and vectorizer trained and saved successfully\")"
   ]
  },
  {
   "cell_type": "code",
   "execution_count": 6,
   "metadata": {},
   "outputs": [
    {
     "name": "stdout",
     "output_type": "stream",
     "text": [
      "Predictions for Team Development Questions:\n",
      "Question 43: A (Team development is frequently used)\n",
      "Question 44: A (Team development is frequently used)\n",
      "Question 45: A (Team development is frequently used)\n"
     ]
    }
   ],
   "source": [
    "# Load the saved models and vectorizer\n",
    "models = joblib.load('team_development_models.joblib')\n",
    "vectorizer = joblib.load('team_development_vectorizer.joblib')\n",
    "\n",
    "# Job description to analyze\n",
    "job_description = \"\"\"The purpose of the role is to contribute to the delivery of taught modules and extra-curricular sessions for undergraduate, postgraduate, apprenticeship, and work-based programmes by providing lived experiences as a guest speaker, aiding curriculum development, and advising on opportunities for the University in West Yorkshire. Reporting to the Director of the Centre for Apprenticeships, Work-Based Learning, and Skills, the key responsibilities include developing and delivering workshops on important topics relevant to the West Yorkshire region, such as race, ethnicity, religion, and economic and social history. Additionally, the role involves contributing to extra-curricular activities and Equality & Diversity events hosted by the University or its partners, supporting recruitment activities, and maintaining links with external organizations to support these contributions. The individual will also advise on expanding the Ambassador network, identifying gaps in provision, and enhancing the student experience through further expertise. Furthermore, they will set up additional activities to raise the University's external profile. General duties include ensuring data use complies with regulations, particularly GDPR, adhering to health, safety, and wellbeing policies, promoting safeguarding and protection of others, applying the University's Equality, Diversity, and Inclusion Policy, and performing other duties as directed by their line manager.\"\"\"\n",
    "\n",
    "# Transform the job description using the vectorizer\n",
    "job_description_vectorized = vectorizer.transform([job_description])\n",
    "\n",
    "# Predict labels for each question\n",
    "predictions = [model.predict(job_description_vectorized)[0] for model in models]\n",
    "\n",
    "# Map numerical labels to A, B, C responses\n",
    "label_mapping = {\n",
    "    'Response A': 'A (Team development is frequently used)',\n",
    "    'Response B': 'B (Team development is used occasionally)',\n",
    "    'Response C': 'C (Team development is not relevant)'\n",
    "}\n",
    "\n",
    "# Print predictions\n",
    "print(\"Predictions for Team Development Questions:\")\n",
    "for i, prediction in enumerate(predictions, start=43):\n",
    "    print(f\"Question {i}: {label_mapping[prediction]}\")"
   ]
  },
  {
   "cell_type": "code",
   "execution_count": 7,
   "metadata": {},
   "outputs": [
    {
     "name": "stdout",
     "output_type": "stream",
     "text": [
      "Predictions for Team Development Questions:\n",
      "Question 43: A (Team development is frequently used)\n",
      "Question 44: A (Team development is frequently used)\n",
      "Question 45: A (Team development is frequently used)\n"
     ]
    }
   ],
   "source": [
    "# Load the saved models and vectorizer\n",
    "models = joblib.load('team_development_models.joblib')\n",
    "vectorizer = joblib.load('team_development_vectorizer.joblib')\n",
    "\n",
    "# Job description to analyze\n",
    "job_description = \"\"\"The Web Services Manager, part of the Marketing, Communications, and Recruitment Department (Grade 8a), works 35 hours per week, typically from 9:00 am to 5:00 pm, Monday to Friday, with a one-hour lunch break. They are responsible to the Head of Marketing and Recruitment and oversee the Web Developer. The role involves managing the technical infrastructure and framework for Web Services, including the externally facing website and the Web Content Management System (WCMS), to ensure a seamless user experience that aligns with institutional objectives. Key duties include managing the institutional CMS, developing responsive style templates, integrating the CMS with corporate systems, and overseeing the deployment of bespoke code like HTML, CSS, and JavaScript for high-performing, SEO-optimized, user-friendly, and secure websites. Additionally, the manager leads the development of the digital governance framework, including maintaining the University's Pattern Library, and oversees the development of web tools that enhance user experience. They act as the main point of contact for web-related technologies, plan future web services developments, generate reports for leadership, and ensure the effective implementation of the University’s Web Strategy. Other responsibilities include user testing, using analytics to enhance functionality, managing the web budget, documenting code and processes, collaborating with Marketing, Recruitment, and Communications team members, liaising with external suppliers, and ensuring the upkeep of associated systems like the Search Tool and Asset Management Library. The Web Services Manager also supports digital transformation by promoting new technologies and trends, manages web support duties with Digital Team members, ensures secure system hosting in collaboration with IT services, and trains staff on CMS usage. Leadership responsibilities include managing the Web Developer, fostering teamwork, and driving transformational digital change. The role also involves compliance with GDPR, health and safety regulations, and the University's Equality, Diversity, and Inclusion Policy, with flexibility to undertake additional duties as required. The job description is subject to change to accommodate institutional developments, last updated in July 2021\"\"\"\n",
    "\n",
    "# Transform the job description using the vectorizer\n",
    "job_description_vectorized = vectorizer.transform([job_description])\n",
    "\n",
    "# Predict labels for each question\n",
    "predictions = [model.\n",
    "               predict(job_description_vectorized)[0] for model in models]\n",
    "\n",
    "# Map numerical labels to A, B, C responses\n",
    "label_mapping = {\n",
    "    'Response A': 'A (Team development is frequently used)',\n",
    "    'Response B': 'B (Team development is used occasionally)',\n",
    "    'Response C': 'C (Team development is not relevant)'\n",
    "}\n",
    "\n",
    "# Print predictions\n",
    "print(\"Predictions for Team Development Questions:\")\n",
    "for i, prediction in enumerate(predictions, start=43):\n",
    "    print(f\"Question {i}: {label_mapping[prediction]}\")"
   ]
  },
  {
   "cell_type": "code",
   "execution_count": 8,
   "metadata": {},
   "outputs": [
    {
     "name": "stdout",
     "output_type": "stream",
     "text": [
      "Predictions for Team Development Questions:\n",
      "Question 43: B (Team development is used occasionally)\n",
      "Question 44: B (Team development is used occasionally)\n",
      "Question 45: B (Team development is used occasionally)\n"
     ]
    }
   ],
   "source": [
    "# Load the saved models and vectorizer\n",
    "models = joblib.load('team_development_models.joblib')\n",
    "vectorizer = joblib.load('team_development_vectorizer.joblib')\n",
    "\n",
    "# Job description to analyze\n",
    "job_description = \"\"\"The purpose of the role is to create, implement, and manage sustainable solutions for the University's needs across all campus locations by evaluating the environmental impact of day-to-day activities and developments. The Sustainability Manager is responsible for supporting the management, monitoring, and reporting of the institution’s efforts to reduce its carbon footprint across scopes 1, 2, and 3 emissions, managing waste, recycling, and construction activities, and sourcing sustainable energy. The role also includes implementing new green technologies to achieve a net zero carbon status and minimizing the environmental impact of daily operations. Reporting to the Estates Project Development Manager, key responsibilities include sourcing solutions to reduce the University's environmental impact in areas such as materials, waste, energy, and water management, and ensuring compliance with environmental legislation. The role involves conducting ecology surveys, performing environmental impact assessments, and completing mandatory assessments like BREEAM. The manager will collect and analyze data to produce reports on the University's current status and recommend strategies for improvement, including cost-benefit analyses and timelines for implementation. They will advise on compliance with environmental law and suggest cost-effective technologies to lower energy emissions and waste. The role requires staying updated on research and legislation through seminars, publications, and social media. The Sustainability Manager will manage sustainability projects, prepare project bid documents, and ensure compliance with University policies. They will also oversee sustainability initiatives, ensuring the effective use of resources, compliance with legal requirements for waste management, and providing sustainability guidance on construction projects. The role includes maintaining the University’s sustainability and environmental policies and contributing to the management of carbon footprint reduction. The manager will work closely with the Head of Estates and Facilities and the Head of Commercial Enterprises to ensure sustainable and environmental responsibilities are managed effectively. General duties include ensuring compliance with GDPR, adhering to health, safety, and wellbeing policies, promoting safeguarding, applying the University’s Equality, Diversity, and Inclusion Policy, and performing other duties as directed by the line manager. This job description is subject to variation by the Vice-Chancellor to reflect institutional developments.\"\"\"\n",
    "\n",
    "# Transform the job description using the vectorizer\n",
    "job_description_vectorized = vectorizer.transform([job_description])\n",
    "\n",
    "# Predict labels for each question\n",
    "predictions = [model.predict(job_description_vectorized)[0] for model in models]\n",
    "\n",
    "# Map numerical labels to A, B, C responses\n",
    "label_mapping = {\n",
    "    'Response A': 'A (Team development is frequently used)',\n",
    "    'Response B': 'B (Team development is used occasionally)',\n",
    "    'Response C': 'C (Team development is not relevant)'\n",
    "}\n",
    "\n",
    "# Print predictions\n",
    "print(\"Predictions for Team Development Questions:\")\n",
    "for i, prediction in enumerate(predictions, start=43):\n",
    "    print(f\"Question {i}: {label_mapping[prediction]}\")"
   ]
  }
 ],
 "metadata": {
  "kernelspec": {
   "display_name": "“virtual”env”",
   "language": "python",
   "name": "myvirtualenv"
  },
  "language_info": {
   "codemirror_mode": {
    "name": "ipython",
    "version": 3
   },
   "file_extension": ".py",
   "mimetype": "text/x-python",
   "name": "python",
   "nbconvert_exporter": "python",
   "pygments_lexer": "ipython3",
   "version": "3.11.5"
  }
 },
 "nbformat": 4,
 "nbformat_minor": 2
}
