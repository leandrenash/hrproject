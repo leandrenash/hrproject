{
 "cells": [
  {
   "cell_type": "code",
   "execution_count": 1,
   "metadata": {},
   "outputs": [
    {
     "name": "stdout",
     "output_type": "stream",
     "text": [
      "   Code                               Job Responsibilites        Label\n",
      "0  1405  To plan, organise and implement annual program...  Response C\n",
      "1  1405  To manage and maintain the Sports fields to ap...  Response C\n",
      "2  1405  To oversee and ensure correct usage of mechani...  Response C\n",
      "3  1405             To supervise hard and soft landscaping  Response C\n",
      "4  1405  To ensure roads and paths are cleared of snow ...  Response C\n"
     ]
    }
   ],
   "source": [
    "import pandas as pd\n",
    "\n",
    "# Load the dataset\n",
    "sensory_df = pd.read_csv('sensory.csv', encoding='UTF-8-SIG')\n",
    "\n",
    "# Display the first few rows of the dataset to understand its structure\n",
    "print(sensory_df.head())"
   ]
  },
  {
   "cell_type": "code",
   "execution_count": 2,
   "metadata": {},
   "outputs": [
    {
     "name": "stdout",
     "output_type": "stream",
     "text": [
      "Column names in the dataset:\n",
      "['Code', 'Job Responsibilites ', 'Label']\n",
      "First few rows of the dataset:\n",
      "   Code                               Job Responsibilites        Label\n",
      "0  1405  To plan, organise and implement annual program...  Response C\n",
      "1  1405  To manage and maintain the Sports fields to ap...  Response C\n",
      "2  1405  To oversee and ensure correct usage of mechani...  Response C\n",
      "3  1405             To supervise hard and soft landscaping  Response C\n",
      "4  1405  To ensure roads and paths are cleared of snow ...  Response C\n"
     ]
    }
   ],
   "source": [
    "import pandas as pd\n",
    "\n",
    "# Load the dataset\n",
    "df = pd.read_csv('sensory.csv', encoding='UTF-8-SIG')\n",
    "\n",
    "# Display column names\n",
    "print(\"Column names in the dataset:\")\n",
    "print(df.columns.tolist())\n",
    "\n",
    "# Display first few rows\n",
    "print(\"\\\n",
    "First few rows of the dataset:\")\n",
    "print(df.head())"
   ]
  },
  {
   "cell_type": "code",
   "execution_count": 2,
   "metadata": {},
   "outputs": [
    {
     "name": "stdout",
     "output_type": "stream",
     "text": [
      "Classification Report:\n",
      "              precision    recall  f1-score   support\n",
      "\n",
      "           B       0.00      0.00      0.00         1\n",
      "           C       0.84      0.91      0.87        45\n",
      "           D       0.80      0.70      0.74        23\n",
      "\n",
      "    accuracy                           0.83        69\n",
      "   macro avg       0.55      0.54      0.54        69\n",
      "weighted avg       0.81      0.83      0.82        69\n",
      "\n",
      "Accuracy Score: 0.8260869565217391\n",
      "Model and vectorizer saved successfully!\n",
      "Test Prediction:\n",
      "Job Description: To plan, organise and implement annual programmes of work\n",
      "Predicted Category: Response C\n",
      "Confidence: 0.99\n"
     ]
    },
    {
     "name": "stderr",
     "output_type": "stream",
     "text": [
      "/Users/leandrenash/anaconda3/envs/myvirutalenv/lib/python3.11/site-packages/sklearn/metrics/_classification.py:1471: UndefinedMetricWarning: Precision and F-score are ill-defined and being set to 0.0 in labels with no predicted samples. Use `zero_division` parameter to control this behavior.\n",
      "  _warn_prf(average, modifier, msg_start, len(result))\n",
      "/Users/leandrenash/anaconda3/envs/myvirutalenv/lib/python3.11/site-packages/sklearn/metrics/_classification.py:1471: UndefinedMetricWarning: Precision and F-score are ill-defined and being set to 0.0 in labels with no predicted samples. Use `zero_division` parameter to control this behavior.\n",
      "  _warn_prf(average, modifier, msg_start, len(result))\n",
      "/Users/leandrenash/anaconda3/envs/myvirutalenv/lib/python3.11/site-packages/sklearn/metrics/_classification.py:1471: UndefinedMetricWarning: Precision and F-score are ill-defined and being set to 0.0 in labels with no predicted samples. Use `zero_division` parameter to control this behavior.\n",
      "  _warn_prf(average, modifier, msg_start, len(result))\n"
     ]
    }
   ],
   "source": [
    "import pandas as pd\n",
    "import numpy as np\n",
    "from sklearn.model_selection import train_test_split\n",
    "from sklearn.feature_extraction.text import TfidfVectorizer\n",
    "from sklearn.ensemble import RandomForestClassifier\n",
    "from sklearn.metrics import classification_report, accuracy_score\n",
    "import joblib\n",
    "\n",
    "# Data preprocessing\n",
    "df = pd.read_csv('sensory.csv', encoding='UTF-8-SIG')\n",
    "\n",
    "# Note the space in column name 'Job Responsibilites '\n",
    "X = df['Job Responsibilites ']  # Note the space at the end\n",
    "y = df['Label'].str.replace('Response ', '')\n",
    "\n",
    "# Split into training and testing sets\n",
    "X_train, X_test, y_train, y_test = train_test_split(X, y, test_size=0.2, random_state=42)\n",
    "\n",
    "# Create TF-IDF vectorizer\n",
    "tfidf = TfidfVectorizer(max_features=1000, stop_words='english')\n",
    "X_train_tfidf = tfidf.fit_transform(X_train)\n",
    "X_test_tfidf = tfidf.transform(X_test)\n",
    "\n",
    "# Train Random Forest model\n",
    "rf_model = RandomForestClassifier(n_estimators=100, random_state=42)\n",
    "rf_model.fit(X_train_tfidf, y_train)\n",
    "\n",
    "# Make predictions\n",
    "y_pred = rf_model.predict(X_test_tfidf)\n",
    "\n",
    "# Print classification report\n",
    "print(\"Classification Report:\")\n",
    "print(classification_report(y_test, y_pred))\n",
    "\n",
    "# Print accuracy\n",
    "print(\"\\\n",
    "Accuracy Score:\", accuracy_score(y_test, y_pred))\n",
    "\n",
    "# Save the model and vectorizer\n",
    "joblib.dump(rf_model, 'sensory_rf_model.joblib')\n",
    "joblib.dump(tfidf, 'sensory_tfidf.joblib')\n",
    "\n",
    "print(\"\\\n",
    "Model and vectorizer saved successfully!\")\n",
    "\n",
    "# Create a function to predict new job descriptions\n",
    "def predict_sensory_demand(job_description):\n",
    "    # Transform the new job description\n",
    "    job_description_tfidf = tfidf.transform([job_description])\n",
    "    # Make prediction\n",
    "    prediction = rf_model.predict(job_description_tfidf)\n",
    "    # Get prediction probabilities\n",
    "    proba = rf_model.predict_proba(job_description_tfidf)\n",
    "    confidence = np.max(proba)\n",
    "    return prediction[0], confidence\n",
    "\n",
    "# Test the function with a sample job description\n",
    "test_description = \"To plan, organise and implement annual programmes of work\"\n",
    "prediction, confidence = predict_sensory_demand(test_description)\n",
    "print(\"\\\n",
    "Test Prediction:\")\n",
    "print(f\"Job Description: {test_description}\")\n",
    "print(f\"Predicted Category: Response {prediction}\")\n",
    "print(f\"Confidence: {confidence:.2f}\")"
   ]
  },
  {
   "cell_type": "code",
   "execution_count": 3,
   "metadata": {},
   "outputs": [
    {
     "name": "stdout",
     "output_type": "stream",
     "text": [
      "Test Prediction:\n",
      "Job Description: To plan, organise and implement annual programmes of work\n",
      "Predicted Category: Response C\n"
     ]
    }
   ],
   "source": [
    "# Test the function with a sample job description\n",
    "test_description = \"To plan, organise and implement annual programmes of work\"\n",
    "prediction, confidence = predict_sensory_demand(test_description)\n",
    "print(\"\\\n",
    "Test Prediction:\")\n",
    "print(f\"Job Description: {test_description}\")\n",
    "print(f\"Predicted Category: Response {prediction}\")"
   ]
  },
  {
   "cell_type": "code",
   "execution_count": 4,
   "metadata": {},
   "outputs": [
    {
     "name": "stdout",
     "output_type": "stream",
     "text": [
      "Test Prediction:\n",
      "Job Description: The Web Services Manager, part of the Marketing, Communications, and Recruitment Department (Grade 8a), works 35 hours per week, typically from 9:00 am to 5:00 pm, Monday to Friday, with a one-hour lunch break. They are responsible to the Head of Marketing and Recruitment and oversee the Web Developer. The role involves managing the technical infrastructure and framework for Web Services, including the externally facing website and the Web Content Management System (WCMS), to ensure a seamless user experience that aligns with institutional objectives. Key duties include managing the institutional CMS, developing responsive style templates, integrating the CMS with corporate systems, and overseeing the deployment of bespoke code like HTML, CSS, and JavaScript for high-performing, SEO-optimized, user-friendly, and secure websites. Additionally, the manager leads the development of the digital governance framework, including maintaining the University's Pattern Library, and oversees the development of web tools that enhance user experience. They act as the main point of contact for web-related technologies, plan future web services developments, generate reports for leadership, and ensure the effective implementation of the University’s Web Strategy. Other responsibilities include user testing, using analytics to enhance functionality, managing the web budget, documenting code and processes, collaborating with Marketing, Recruitment, and Communications team members, liaising with external suppliers, and ensuring the upkeep of associated systems like the Search Tool and Asset Management Library. The Web Services Manager also supports digital transformation by promoting new technologies and trends, manages web support duties with Digital Team members, ensures secure system hosting in collaboration with IT services, and trains staff on CMS usage. Leadership responsibilities include managing the Web Developer, fostering teamwork, and driving transformational digital change. The role also involves compliance with GDPR, health and safety regulations, and the University's Equality, Diversity, and Inclusion Policy, with flexibility to undertake additional duties as required. The job description is subject to change to accommodate institutional developments, last updated in July 2021\n",
      "Predicted Category: Response D\n"
     ]
    }
   ],
   "source": [
    "# Load the saved model and vectorizer\n",
    "rf_model = joblib.load('sensory_rf_model.joblib')\n",
    "tfidf = joblib.load('sensory_tfidf.joblib')\n",
    "\n",
    "# Define the test job description\n",
    "test_description = \"The Web Services Manager, part of the Marketing, Communications, and Recruitment Department (Grade 8a), works 35 hours per week, typically from 9:00 am to 5:00 pm, Monday to Friday, with a one-hour lunch break. They are responsible to the Head of Marketing and Recruitment and oversee the Web Developer. The role involves managing the technical infrastructure and framework for Web Services, including the externally facing website and the Web Content Management System (WCMS), to ensure a seamless user experience that aligns with institutional objectives. Key duties include managing the institutional CMS, developing responsive style templates, integrating the CMS with corporate systems, and overseeing the deployment of bespoke code like HTML, CSS, and JavaScript for high-performing, SEO-optimized, user-friendly, and secure websites. Additionally, the manager leads the development of the digital governance framework, including maintaining the University's Pattern Library, and oversees the development of web tools that enhance user experience. They act as the main point of contact for web-related technologies, plan future web services developments, generate reports for leadership, and ensure the effective implementation of the University’s Web Strategy. Other responsibilities include user testing, using analytics to enhance functionality, managing the web budget, documenting code and processes, collaborating with Marketing, Recruitment, and Communications team members, liaising with external suppliers, and ensuring the upkeep of associated systems like the Search Tool and Asset Management Library. The Web Services Manager also supports digital transformation by promoting new technologies and trends, manages web support duties with Digital Team members, ensures secure system hosting in collaboration with IT services, and trains staff on CMS usage. Leadership responsibilities include managing the Web Developer, fostering teamwork, and driving transformational digital change. The role also involves compliance with GDPR, health and safety regulations, and the University's Equality, Diversity, and Inclusion Policy, with flexibility to undertake additional duties as required. The job description is subject to change to accommodate institutional developments, last updated in July 2021\"\n",
    "\n",
    "# Run the prediction function\n",
    "prediction, confidence = predict_sensory_demand(test_description)\n",
    "\n",
    "# Display the prediction and confidence\n",
    "print(\"\\\n",
    "Test Prediction:\")\n",
    "print(\"Job Description:\", test_description)\n",
    "print(\"Predicted Category: Response\", prediction)"
   ]
  },
  {
   "cell_type": "code",
   "execution_count": 6,
   "metadata": {},
   "outputs": [
    {
     "name": "stdout",
     "output_type": "stream",
     "text": [
      "Test Prediction:\n",
      "Job Description: The purpose of the role is to contribute to the delivery of taught modules and extra-curricular sessions for undergraduate, postgraduate, apprenticeship, and work-based programmes by providing lived experiences as a guest speaker, aiding curriculum development, and advising on opportunities for the University in West Yorkshire. Reporting to the Director of the Centre for Apprenticeships, Work-Based Learning, and Skills, the key responsibilities include developing and delivering workshops on important topics relevant to the West Yorkshire region, such as race, ethnicity, religion, and economic and social history. Additionally, the role involves contributing to extra-curricular activities and Equality & Diversity events hosted by the University or its partners, supporting recruitment activities, and maintaining links with external organizations to support these contributions. The individual will also advise on expanding the Ambassador network, identifying gaps in provision, and enhancing the student experience through further expertise. Furthermore, they will set up additional activities to raise the University's external profile. General duties include ensuring data use complies with regulations, particularly GDPR, adhering to health, safety, and wellbeing policies, promoting safeguarding and protection of others, applying the University's Equality, Diversity, and Inclusion Policy, and performing other duties as directed by their line manager. This job description is subject to variation by the Vice-Chancellor to reflect institutional developments.\n",
      "Predicted Category: Response C\n"
     ]
    }
   ],
   "source": [
    "# Load the saved model and vectorizer\n",
    "rf_model = joblib.load('sensory_rf_model.joblib')\n",
    "tfidf = joblib.load('sensory_tfidf.joblib')\n",
    "\n",
    "# Define the test job description\n",
    "test_description = \"The purpose of the role is to contribute to the delivery of taught modules and extra-curricular sessions for undergraduate, postgraduate, apprenticeship, and work-based programmes by providing lived experiences as a guest speaker, aiding curriculum development, and advising on opportunities for the University in West Yorkshire. Reporting to the Director of the Centre for Apprenticeships, Work-Based Learning, and Skills, the key responsibilities include developing and delivering workshops on important topics relevant to the West Yorkshire region, such as race, ethnicity, religion, and economic and social history. Additionally, the role involves contributing to extra-curricular activities and Equality & Diversity events hosted by the University or its partners, supporting recruitment activities, and maintaining links with external organizations to support these contributions. The individual will also advise on expanding the Ambassador network, identifying gaps in provision, and enhancing the student experience through further expertise. Furthermore, they will set up additional activities to raise the University's external profile. General duties include ensuring data use complies with regulations, particularly GDPR, adhering to health, safety, and wellbeing policies, promoting safeguarding and protection of others, applying the University's Equality, Diversity, and Inclusion Policy, and performing other duties as directed by their line manager. This job description is subject to variation by the Vice-Chancellor to reflect institutional developments.\"\n",
    "\n",
    "# Run the prediction function\n",
    "prediction, confidence = predict_sensory_demand(test_description)\n",
    "\n",
    "# Display the prediction and confidence\n",
    "print(\"\\\n",
    "Test Prediction:\")\n",
    "print(\"Job Description:\", test_description)\n",
    "print(\"Predicted Category: Response\", prediction)"
   ]
  },
  {
   "cell_type": "code",
   "execution_count": 7,
   "metadata": {},
   "outputs": [
    {
     "name": "stdout",
     "output_type": "stream",
     "text": [
      "Test Prediction:\n",
      "Job Description: The purpose of the role is to create, implement, and manage sustainable solutions for the University's needs across all campus locations by evaluating the environmental impact of day-to-day activities and developments. The Sustainability Manager is responsible for supporting the management, monitoring, and reporting of the institution’s efforts to reduce its carbon footprint across scopes 1, 2, and 3 emissions, managing waste, recycling, and construction activities, and sourcing sustainable energy. The role also includes implementing new green technologies to achieve a net zero carbon status and minimizing the environmental impact of daily operations. Reporting to the Estates Project Development Manager, key responsibilities include sourcing solutions to reduce the University's environmental impact in areas such as materials, waste, energy, and water management, and ensuring compliance with environmental legislation. The role involves conducting ecology surveys, performing environmental impact assessments, and completing mandatory assessments like BREEAM. The manager will collect and analyze data to produce reports on the University's current status and recommend strategies for improvement, including cost-benefit analyses and timelines for implementation. They will advise on compliance with environmental law and suggest cost-effective technologies to lower energy emissions and waste. The role requires staying updated on research and legislation through seminars, publications, and social media. The Sustainability Manager will manage sustainability projects, prepare project bid documents, and ensure compliance with University policies. They will also oversee sustainability initiatives, ensuring the effective use of resources, compliance with legal requirements for waste management, and providing sustainability guidance on construction projects. The role includes maintaining the University’s sustainability and environmental policies and contributing to the management of carbon footprint reduction. The manager will work closely with the Head of Estates and Facilities and the Head of Commercial Enterprises to ensure sustainable and environmental responsibilities are managed effectively. General duties include ensuring compliance with GDPR, adhering to health, safety, and wellbeing policies, promoting safeguarding, applying the University’s Equality, Diversity, and Inclusion Policy, and performing other duties as directed by the line manager. This job description is subject to variation by the Vice-Chancellor to reflect institutional developments.\n",
      "Predicted Category: Response C\n"
     ]
    }
   ],
   "source": [
    "# Load the saved model and vectorizer\n",
    "rf_model = joblib.load('sensory_rf_model.joblib')\n",
    "tfidf = joblib.load('sensory_tfidf.joblib')\n",
    "\n",
    "# Define the test job description\n",
    "\n",
    "test_description = \"The purpose of the role is to create, implement, and manage sustainable solutions for the University's needs across all campus locations by evaluating the environmental impact of day-to-day activities and developments. The Sustainability Manager is responsible for supporting the management, monitoring, and reporting of the institution’s efforts to reduce its carbon footprint across scopes 1, 2, and 3 emissions, managing waste, recycling, and construction activities, and sourcing sustainable energy. The role also includes implementing new green technologies to achieve a net zero carbon status and minimizing the environmental impact of daily operations. Reporting to the Estates Project Development Manager, key responsibilities include sourcing solutions to reduce the University's environmental impact in areas such as materials, waste, energy, and water management, and ensuring compliance with environmental legislation. The role involves conducting ecology surveys, performing environmental impact assessments, and completing mandatory assessments like BREEAM. The manager will collect and analyze data to produce reports on the University's current status and recommend strategies for improvement, including cost-benefit analyses and timelines for implementation. They will advise on compliance with environmental law and suggest cost-effective technologies to lower energy emissions and waste. The role requires staying updated on research and legislation through seminars, publications, and social media. The Sustainability Manager will manage sustainability projects, prepare project bid documents, and ensure compliance with University policies. They will also oversee sustainability initiatives, ensuring the effective use of resources, compliance with legal requirements for waste management, and providing sustainability guidance on construction projects. The role includes maintaining the University’s sustainability and environmental policies and contributing to the management of carbon footprint reduction. The manager will work closely with the Head of Estates and Facilities and the Head of Commercial Enterprises to ensure sustainable and environmental responsibilities are managed effectively. General duties include ensuring compliance with GDPR, adhering to health, safety, and wellbeing policies, promoting safeguarding, applying the University’s Equality, Diversity, and Inclusion Policy, and performing other duties as directed by the line manager. This job description is subject to variation by the Vice-Chancellor to reflect institutional developments.\"\n",
    "\n",
    "# Run the prediction function\n",
    "prediction, confidence = predict_sensory_demand(test_description)\n",
    "\n",
    "# Display the prediction and confidence\n",
    "print(\"\\\n",
    "Test Prediction:\")\n",
    "print(\"Job Description:\", test_description)\n",
    "print(\"Predicted Category: Response\", prediction)"
   ]
  }
 ],
 "metadata": {
  "kernelspec": {
   "display_name": "“virtual”env”",
   "language": "python",
   "name": "myvirtualenv"
  },
  "language_info": {
   "codemirror_mode": {
    "name": "ipython",
    "version": 3
   },
   "file_extension": ".py",
   "mimetype": "text/x-python",
   "name": "python",
   "nbconvert_exporter": "python",
   "pygments_lexer": "ipython3",
   "version": "3.11.5"
  }
 },
 "nbformat": 4,
 "nbformat_minor": 2
}
