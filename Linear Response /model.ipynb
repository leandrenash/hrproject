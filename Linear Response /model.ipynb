{
 "cells": [
  {
   "cell_type": "code",
   "execution_count": 1,
   "metadata": {},
   "outputs": [
    {
     "name": "stdout",
     "output_type": "stream",
     "text": [
      "Requirement already satisfied: pandas in /Users/leandrenash/anaconda3/envs/myvirutalenv/lib/python3.11/site-packages (2.1.3)\n",
      "Requirement already satisfied: scikit-learn in /Users/leandrenash/anaconda3/envs/myvirutalenv/lib/python3.11/site-packages (1.3.2)\n",
      "Requirement already satisfied: joblib in /Users/leandrenash/anaconda3/envs/myvirutalenv/lib/python3.11/site-packages (1.3.2)\n",
      "Requirement already satisfied: numpy<2,>=1.23.2 in /Users/leandrenash/anaconda3/envs/myvirutalenv/lib/python3.11/site-packages (from pandas) (1.26.2)\n",
      "Requirement already satisfied: python-dateutil>=2.8.2 in /Users/leandrenash/anaconda3/envs/myvirutalenv/lib/python3.11/site-packages (from pandas) (2.8.2)\n",
      "Requirement already satisfied: pytz>=2020.1 in /Users/leandrenash/anaconda3/envs/myvirutalenv/lib/python3.11/site-packages (from pandas) (2023.3.post1)\n",
      "Requirement already satisfied: tzdata>=2022.1 in /Users/leandrenash/anaconda3/envs/myvirutalenv/lib/python3.11/site-packages (from pandas) (2023.3)\n",
      "Requirement already satisfied: scipy>=1.5.0 in /Users/leandrenash/anaconda3/envs/myvirutalenv/lib/python3.11/site-packages (from scikit-learn) (1.11.4)\n",
      "Requirement already satisfied: threadpoolctl>=2.0.0 in /Users/leandrenash/anaconda3/envs/myvirutalenv/lib/python3.11/site-packages (from scikit-learn) (3.2.0)\n",
      "Requirement already satisfied: six>=1.5 in /Users/leandrenash/anaconda3/envs/myvirutalenv/lib/python3.11/site-packages (from python-dateutil>=2.8.2->pandas) (1.16.0)\n",
      "Note: you may need to restart the kernel to use updated packages.\n"
     ]
    }
   ],
   "source": [
    "pip install pandas scikit-learn joblib"
   ]
  },
  {
   "cell_type": "code",
   "execution_count": 1,
   "metadata": {},
   "outputs": [
    {
     "name": "stderr",
     "output_type": "stream",
     "text": [
      "/Users/leandrenash/anaconda3/envs/myvirutalenv/lib/python3.11/site-packages/sklearn/model_selection/_split.py:737: UserWarning: The least populated class in y has only 2 members, which is less than n_splits=5.\n",
      "  warnings.warn(\n",
      "/Users/leandrenash/anaconda3/envs/myvirutalenv/lib/python3.11/site-packages/sklearn/model_selection/_split.py:737: UserWarning: The least populated class in y has only 2 members, which is less than n_splits=5.\n",
      "  warnings.warn(\n"
     ]
    },
    {
     "name": "stdout",
     "output_type": "stream",
     "text": [
      "LogisticRegression best params: {'C': 10}\n",
      "LogisticRegression best score: 0.8943961352657004\n",
      "SVC best params: {'C': 10, 'kernel': 'linear'}\n",
      "SVC best score: 0.9121739130434783\n"
     ]
    },
    {
     "name": "stderr",
     "output_type": "stream",
     "text": [
      "/Users/leandrenash/anaconda3/envs/myvirutalenv/lib/python3.11/site-packages/sklearn/model_selection/_split.py:737: UserWarning: The least populated class in y has only 2 members, which is less than n_splits=5.\n",
      "  warnings.warn(\n"
     ]
    },
    {
     "name": "stdout",
     "output_type": "stream",
     "text": [
      "RandomForest best params: {'n_estimators': 50}\n",
      "RandomForest best score: 0.8679227053140097\n",
      "LogisticRegression classification report:\n",
      "              precision    recall  f1-score   support\n",
      "\n",
      "  Response B       0.73      0.89      0.80        18\n",
      "  Response C       0.93      0.87      0.90        30\n",
      "  Response D       1.00      0.78      0.88         9\n",
      "\n",
      "    accuracy                           0.86        57\n",
      "   macro avg       0.89      0.84      0.86        57\n",
      "weighted avg       0.88      0.86      0.86        57\n",
      "\n",
      "SVC classification report:\n",
      "              precision    recall  f1-score   support\n",
      "\n",
      "  Response B       0.73      0.89      0.80        18\n",
      "  Response C       0.92      0.80      0.86        30\n",
      "  Response D       0.78      0.78      0.78         9\n",
      "\n",
      "    accuracy                           0.82        57\n",
      "   macro avg       0.81      0.82      0.81        57\n",
      "weighted avg       0.84      0.82      0.83        57\n",
      "\n",
      "RandomForest classification report:\n",
      "              precision    recall  f1-score   support\n",
      "\n",
      "  Response B       0.89      0.89      0.89        18\n",
      "  Response C       0.93      0.93      0.93        30\n",
      "  Response D       1.00      1.00      1.00         9\n",
      "\n",
      "    accuracy                           0.93        57\n",
      "   macro avg       0.94      0.94      0.94        57\n",
      "weighted avg       0.93      0.93      0.93        57\n",
      "\n",
      "Best model saved as best_model_random_forest.pkl\n",
      "Job Description: To work collaboratively with the Director, Pro Vice-Chancellor (Enterprise and External Engagement) and Directors of Academic Partnerships, and Global Engagement, on the development and quality management of UK and Transnational Education (TNE) collaborative partners.\n",
      "True Label: Response B\n",
      "Predicted Label: Response C\n",
      "---\n",
      "Job Description: To work collaboratively with the Director, Pro Vice-Chancellor (Enterprise and External Engagement) and Directors of Academic Partnerships, and Global Engagement, on the development and quality management of UK and Transnational Education (TNE) collaborative partners.\n",
      "True Label: Response B\n",
      "Predicted Label: Response C\n",
      "---\n",
      "Job Description: Develop and maintain networks, both within the University and outside, to ensure the application of the most up-to-date and effective practice.\n",
      "True Label: Response C\n",
      "Predicted Label: Response B\n",
      "---\n",
      "Job Description: Develop and maintain networks, both within the University and outside, to ensure the application of the most up-to-date and effective practice.\n",
      "True Label: Response C\n",
      "Predicted Label: Response B\n",
      "---\n"
     ]
    }
   ],
   "source": [
    "import pandas as pd\n",
    "from sklearn.model_selection import train_test_split\n",
    "from sklearn.feature_extraction.text import TfidfVectorizer\n",
    "from sklearn.linear_model import LogisticRegression\n",
    "from sklearn.svm import SVC\n",
    "from sklearn.ensemble import RandomForestClassifier\n",
    "from sklearn.metrics import classification_report\n",
    "from sklearn.model_selection import GridSearchCV\n",
    "import joblib\n",
    "\n",
    "# Load the CSV file\n",
    "df = pd.read_csv('data.csv', encoding='UTF-8-SIG')\n",
    "\n",
    "# Preprocess the data\n",
    "X = df['Code.1']\n",
    "y = df['Label']\n",
    "\n",
    "# Split the data into training and testing sets\n",
    "X_train, X_test, y_train, y_test = train_test_split(X, y, test_size=0.2, random_state=42)\n",
    "\n",
    "# Vectorize the text data using TF-IDF\n",
    "vectorizer = TfidfVectorizer()\n",
    "X_train_tfidf = vectorizer.fit_transform(X_train)\n",
    "X_test_tfidf = vectorizer.transform(X_test)\n",
    "\n",
    "# Define the models and parameters for GridSearchCV\n",
    "models = {\n",
    "    'LogisticRegression': LogisticRegression(),\n",
    "    'SVC': SVC(),\n",
    "    'RandomForest': RandomForestClassifier()\n",
    "}\n",
    "\n",
    "params = {\n",
    "    'LogisticRegression': {'C': [0.1, 1, 10]},\n",
    "    'SVC': {'C': [0.1, 1, 10], 'kernel': ['linear', 'rbf']},\n",
    "    'RandomForest': {'n_estimators': [50, 100, 200]}\n",
    "}\n",
    "\n",
    "best_models = {}\n",
    "\n",
    "# Perform GridSearchCV for each model\n",
    "for model_name in models:\n",
    "    grid = GridSearchCV(models[model_name], params[model_name], cv=5, scoring='accuracy')\n",
    "    grid.fit(X_train_tfidf, y_train)\n",
    "    best_models[model_name] = grid.best_estimator_\n",
    "    print(model_name + ' best params: ' + str(grid.best_params_))\n",
    "    print(model_name + ' best score: ' + str(grid.best_score_))\n",
    "\n",
    "# Evaluate the best models on the test set\n",
    "for model_name in best_models:\n",
    "    y_pred = best_models[model_name].predict(X_test_tfidf)\n",
    "    print(model_name + ' classification report:')\n",
    "    print(classification_report(y_test, y_pred))\n",
    "\n",
    "# Save the best model (Random Forest)\n",
    "best_model = best_models['RandomForest']\n",
    "joblib.dump(best_model, 'best_model_random_forest.pkl')\n",
    "print('Best model saved as best_model_random_forest.pkl')\n",
    "\n",
    "# Analyze misclassifications\n",
    "misclassified = X_test[y_test != y_pred]\n",
    "misclassified_labels = y_test[y_test != y_pred]\n",
    "misclassified_preds = y_pred[y_test != y_pred]\n",
    "\n",
    "# Display misclassified examples\n",
    "for i in range(len(misclassified)):\n",
    "    print('Job Description:', misclassified.iloc[i])\n",
    "    print('True Label:', misclassified_labels.iloc[i])\n",
    "    print('Predicted Label:', misclassified_preds[i])\n",
    "    print('---')"
   ]
  }
 ],
 "metadata": {
  "kernelspec": {
   "display_name": "“virtual”env”",
   "language": "python",
   "name": "myvirtualenv"
  },
  "language_info": {
   "codemirror_mode": {
    "name": "ipython",
    "version": 3
   },
   "file_extension": ".py",
   "mimetype": "text/x-python",
   "name": "python",
   "nbconvert_exporter": "python",
   "pygments_lexer": "ipython3",
   "version": "3.11.5"
  }
 },
 "nbformat": 4,
 "nbformat_minor": 2
}
